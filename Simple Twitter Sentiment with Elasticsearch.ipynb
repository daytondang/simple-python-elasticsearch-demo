{
 "cells": [
  {
   "cell_type": "code",
   "execution_count": null,
   "metadata": {},
   "outputs": [],
   "source": [
    "# !pip install textblob\n",
    "# !pip install elasticsearch"
   ]
  },
  {
   "cell_type": "code",
   "execution_count": null,
   "metadata": {},
   "outputs": [],
   "source": [
    "from tweepy import Stream\n",
    "from tweepy import OAuthHandler\n",
    "from tweepy import StreamListener\n",
    "import json\n",
    "from textblob import TextBlob\n",
    "from elasticsearch import Elasticsearch"
   ]
  },
  {
   "cell_type": "code",
   "execution_count": null,
   "metadata": {},
   "outputs": [],
   "source": [
    "# Elasticsearch running on localhost:9200\n",
    "es = Elasticsearch()"
   ]
  },
  {
   "cell_type": "code",
   "execution_count": null,
   "metadata": {},
   "outputs": [],
   "source": [
    "consumer_key = \"your-consumer-key\"\n",
    "consumer_secret = \"your-consumer-secret\"\n",
    "\n",
    "access_token = \"access-token\"\n",
    "access_token_secret = \"access-token-secret\"\n",
    "\n",
    "auth = OAuthHandler(consumer_key, consumer_secret)\n",
    "auth.set_access_token(access_token, access_token_secret)"
   ]
  },
  {
   "cell_type": "code",
   "execution_count": null,
   "metadata": {},
   "outputs": [],
   "source": [
    "class listener(StreamListener):\n",
    "    \n",
    "    def on_data(self, data):\n",
    "        dict_data = json.loads(data)\n",
    "        tweet = TextBlob(dict_data['text'])\n",
    "        sen = tweet.sentiment.polarity\n",
    "        \n",
    "        if sen < 0:\n",
    "            sentiment = 'negative'\n",
    "        elif sen == 0:\n",
    "            sentiment = 'neutral'\n",
    "        else:\n",
    "            sentiment = 'positve'\n",
    "        \n",
    "        es.index(\n",
    "            index = 'nz-sentiment',\n",
    "            doc_type = 'test-type',\n",
    "            body = {\n",
    "                'author': dict_data['user']['screen_name'],\n",
    "                'date': dict_data['created_at'],\n",
    "                'message': dict_data['text'],\n",
    "                'polarity': sen,\n",
    "                'subjectivity': tweet.sentiment.subjectivity,\n",
    "                'sentiment': sentiment\n",
    "            }\n",
    "        )\n",
    "        return True\n",
    "    \n",
    "    def on_error(self, status):\n",
    "        print(status)"
   ]
  },
  {
   "cell_type": "code",
   "execution_count": null,
   "metadata": {
    "scrolled": true
   },
   "outputs": [],
   "source": [
    "# Start streaming, no output\n",
    "stream = Stream(auth, listener())\n",
    "stream.filter(track=['new zealand'], async=True)"
   ]
  },
  {
   "cell_type": "code",
   "execution_count": null,
   "metadata": {},
   "outputs": [],
   "source": [
    "# Run cell to stop streaming\n",
    "stream.disconnect()"
   ]
  }
 ],
 "metadata": {
  "kernelspec": {
   "display_name": "Python with Pixiedust (Spark 2.3)",
   "language": "python",
   "name": "pythonwithpixiedustspark23"
  },
  "language_info": {
   "codemirror_mode": {
    "name": "ipython",
    "version": 3
   },
   "file_extension": ".py",
   "mimetype": "text/x-python",
   "name": "python",
   "nbconvert_exporter": "python",
   "pygments_lexer": "ipython3",
   "version": "3.6.5"
  }
 },
 "nbformat": 4,
 "nbformat_minor": 2
}
